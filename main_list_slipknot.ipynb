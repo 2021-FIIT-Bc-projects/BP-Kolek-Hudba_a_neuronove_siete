{
 "cells": [
  {
   "cell_type": "markdown",
   "id": "fa32159f",
   "metadata": {},
   "source": [
    "# Hudba a neurónové siete\n",
    "## Bakárska práca\n",
    "### Peter Oliver Kolek"
   ]
  },
  {
   "cell_type": "code",
   "execution_count": 1,
   "id": "9d922943",
   "metadata": {},
   "outputs": [],
   "source": [
    "from mido import MidiFile, MidiTrack, MetaMessage, bpm2tempo, Message\n",
    "import pandas as pd\n",
    "import numpy as np\n",
    "from keras.models import Sequential\n",
    "from keras.layers import Dense, Dropout, Embedding, LSTM, Conv1D, MaxPooling1D, Flatten\n",
    "from keras.callbacks import EarlyStopping, ModelCheckpoint, TensorBoard\n",
    "from keras.utils import np_utils\n",
    "import matplotlib.pyplot as plt\n",
    "import keras\n",
    "from scipy.stats import gmean"
   ]
  },
  {
   "cell_type": "code",
   "execution_count": 2,
   "id": "b128547a",
   "metadata": {},
   "outputs": [],
   "source": [
    "def get_list_of_content(file_name):\n",
    "    f = open(file_name, \"r\")\n",
    "    return f.read().splitlines()"
   ]
  },
  {
   "cell_type": "code",
   "execution_count": 3,
   "id": "775690a5",
   "metadata": {},
   "outputs": [],
   "source": [
    "def open_midi(midi_file):\n",
    "    # open midi file\n",
    "    mid = MidiFile(midi_file, clip=True)\n",
    "\n",
    "    drum_track_number = 0\n",
    "    # find track number of drums\n",
    "    for i in range(len(mid.tracks)):\n",
    "        for j in range(len(mid.tracks[i])):\n",
    "            if mid.tracks[i][j].is_meta:\n",
    "                continue\n",
    "            if mid.tracks[i][j].channel == 9:\n",
    "                drum_track_number = i\n",
    "                break\n",
    "    print(\"Drum track number: \", str(drum_track_number))\n",
    "    return mid, mid.tracks[drum_track_number]"
   ]
  },
  {
   "cell_type": "code",
   "execution_count": 4,
   "id": "bbacaa07",
   "metadata": {},
   "outputs": [],
   "source": [
    "def get_transcription(drum_track, mid):\n",
    "    # find ticks per beat, and divide it to Thirty-Second 32 notes\n",
    "    ticks_per_beat_in_32_notes = mid.ticks_per_beat / 8\n",
    "#     print(ticks_per_beat_in_32_notes)\n",
    "    # change notes time to stick it to 32 notes\n",
    "    tmp_time = 0\n",
    "    time_with_note = {}\n",
    "    for i, message in enumerate(drum_track):\n",
    "        # find time how it goes through song\n",
    "        tmp_time += drum_track[i].time\n",
    "        message.time = round(tmp_time / ticks_per_beat_in_32_notes)\n",
    "#         print(\"i: \", i, \"msg time: \", message.time, \"tmp time: \", tmp_time, \"Msg_type: \", message.type)\n",
    "        # make velocity of notes same\n",
    "        if message.type == 'note_on':\n",
    "            if message.velocity > 0:\n",
    "                message.velocity = 1\n",
    "\n",
    "    # crating DataFrame for notes sticked to 32s and filter only note_on notes\n",
    "    transcription = pd.DataFrame(m.dict() for m in drum_track)\n",
    "    transcription = transcription[transcription.type == 'note_on']\n",
    "    # modify table to have columns for every note and lines with time (32 notes as they folow the song)\n",
    "    transcription = transcription.pivot_table(index='time', columns='note', values='velocity', fill_value=0)\n",
    "    # because we have 4/4 tempo, we have to add notes to have folowing 32 notes and empty values we fill with zeros\n",
    "    transcription = transcription.reindex(pd.RangeIndex(transcription.index.max() + 1)).fillna(0).sort_index()\n",
    "    # retype to int\n",
    "    transcription = transcription.astype(int)\n",
    "    transcription.columns = transcription.columns.astype(int)\n",
    "    transcription = transcription.reset_index(drop=True)\n",
    "    return transcription"
   ]
  },
  {
   "cell_type": "code",
   "execution_count": 5,
   "id": "797eeb50",
   "metadata": {},
   "outputs": [],
   "source": [
    "def create_midi(tempo, transcription, ticks_per_beat, file_name, instruments):\n",
    "    # create new midi file\n",
    "    new_mid = MidiFile()\n",
    "    new_mid.ticks_per_beat = ticks_per_beat\n",
    "    meta_track = MidiTrack()\n",
    "    new_mid.tracks.append(meta_track)\n",
    "\n",
    "    # necessary meta track\n",
    "    meta_track.append(MetaMessage(type='track_name', name='meta_track', time=0))\n",
    "    meta_track.append(MetaMessage(type='time_signature', numerator=4, denominator=4, clocks_per_click=24,\n",
    "                                  notated_32nd_notes_per_beat=8, time=0))\n",
    "    meta_track.append(MetaMessage(type='set_tempo', tempo=bpm2tempo(tempo), time=0))\n",
    "\n",
    "    drum_track_new = MidiTrack()\n",
    "    new_mid.tracks.append(drum_track_new)\n",
    "\n",
    "    # apend notes to drum track\n",
    "\n",
    "    ticks_per_32note = int(ticks_per_beat/8)\n",
    "    notes_from_last_message = 0\n",
    "    for i, note in enumerate(transcription):\n",
    "        if i == 0:\n",
    "            for idx, inst in enumerate(note):\n",
    "                if inst == 0:\n",
    "                    continue\n",
    "                drum_track_new.append(Message('note_on', channel=9, note=instruments[idx], velocity=80, time=0))\n",
    "            continue\n",
    "        else:\n",
    "            if sum(note) < 1:\n",
    "                notes_from_last_message += 1\n",
    "                continue\n",
    "            else:\n",
    "                notes_from_last_message += 1\n",
    "\n",
    "            same_note_count = 0\n",
    "            for idx, inst in enumerate(note):\n",
    "                if inst == 0:\n",
    "                    pass\n",
    "                # if there are more notes at the same time played, they must have time 0\n",
    "                elif same_note_count == 0:\n",
    "                    drum_track_new.append(Message('note_on', channel=9, note=instruments[idx], velocity=80,\n",
    "                                                  time=notes_from_last_message * ticks_per_32note))\n",
    "                    same_note_count += 1\n",
    "                else:\n",
    "                    drum_track_new.append(Message('note_on', channel=9, note=instruments[idx], velocity=80, time=0))\n",
    "                    same_note_count += 1\n",
    "            notes_from_last_message = 0\n",
    "#     print(new_mid)\n",
    "    new_mid.save(file_name)"
   ]
  },
  {
   "cell_type": "code",
   "execution_count": 7,
   "id": "24ba59d9",
   "metadata": {},
   "outputs": [
    {
     "name": "stdout",
     "output_type": "stream",
     "text": [
      "['BeforeIForget.midi', 'Eyeless.midi', 'TheNameless.midi', 'Disasterpiece.midi', 'People=Shit.midi', 'WaitAndBleed.midi', 'Duality.midi', 'Sic.midi', 'Eeyore.midi', 'Surfacing.midi']\n"
     ]
    }
   ],
   "source": [
    "slipknot_list = get_list_of_content('./Slipknot_midi/list.txt')\n",
    "print(slipknot_list)"
   ]
  },
  {
   "cell_type": "code",
   "execution_count": 9,
   "id": "1d84c1e5",
   "metadata": {},
   "outputs": [
    {
     "name": "stdout",
     "output_type": "stream",
     "text": [
      "Drum track number:  7\n",
      "Drum track number:  3\n",
      "Drum track number:  5\n",
      "Drum track number:  3\n",
      "Drum track number:  6\n",
      "Drum track number:  1\n",
      "Drum track number:  4\n",
      "Drum track number:  4\n",
      "Drum track number:  5\n",
      "Drum track number:  6\n",
      "note   35  38  40  41  43  45  46  47  49  57  ...  37  42  44  48  51  55  \\\n",
      "0       0   0   0   0   0   0   0   0   0   0  ...   0   0   0   0   0   0   \n",
      "1       0   0   0   0   0   0   0   0   0   0  ...   0   0   0   0   0   0   \n",
      "2       0   0   0   0   0   0   0   0   0   0  ...   0   0   0   0   0   0   \n",
      "3       0   0   0   0   0   0   0   0   0   0  ...   0   0   0   0   0   0   \n",
      "4       0   0   0   0   0   0   0   0   0   0  ...   0   0   0   0   0   0   \n",
      "...    ..  ..  ..  ..  ..  ..  ..  ..  ..  ..  ...  ..  ..  ..  ..  ..  ..   \n",
      "45218   0   0   0   0   0   0   0   0   0   0  ...   0   0   0   0   0   0   \n",
      "45219   0   0   0   0   0   0   0   0   0   0  ...   0   0   0   0   0   0   \n",
      "45220   0   0   0   0   0   0   0   0   0   0  ...   0   0   0   0   0   0   \n",
      "45221   0   0   0   0   0   0   0   0   0   0  ...   0   0   0   0   0   0   \n",
      "45222   0   0   0   0   0   1   0   0   0   0  ...   0   0   0   0   0   0   \n",
      "\n",
      "note   50  0   52  53  \n",
      "0       0   0   0   0  \n",
      "1       0   0   0   0  \n",
      "2       0   0   0   0  \n",
      "3       0   0   0   0  \n",
      "4       0   0   0   0  \n",
      "...    ..  ..  ..  ..  \n",
      "45218   0   0   0   0  \n",
      "45219   0   0   0   0  \n",
      "45220   0   0   0   0  \n",
      "45221   0   0   0   0  \n",
      "45222   0   0   0   0  \n",
      "\n",
      "[45223 rows x 22 columns]\n"
     ]
    }
   ],
   "source": [
    "slipknot_transcription_full = pd.DataFrame()\n",
    "frames = []\n",
    "for item in rhcp_list:\n",
    "    mid, drum_track = open_midi('./Slipknot_midi/' + item)\n",
    "    transcription = get_transcription(drum_track, mid)\n",
    "    frames.append(transcription)\n",
    "    instruments = transcription.columns.tolist()\n",
    "\n",
    "\n",
    "instruments = slipknot_transcription_full.columns.tolist()\n",
    "slipknot_transcription_full = pd.concat(frames)\n",
    "slipknot_transcription_full = slipknot_transcription_full.fillna(0)\n",
    "slipknot_transcription_full = slipknot_transcription_full.astype(int)\n",
    "slipknot_transcription_full = slipknot_transcription_full.reset_index(drop=True)\n",
    "\n",
    "instruments = slipknot_transcription_full.columns.tolist()\n",
    "\n",
    "create_midi(120, slipknot_transcription_full.values, mid.ticks_per_beat, \"./output/transcription_full_slipknot.mid\", instruments)\n",
    "\n",
    "print(slipknot_transcription_full)"
   ]
  },
  {
   "cell_type": "code",
   "execution_count": 17,
   "id": "e7dd284f",
   "metadata": {},
   "outputs": [
    {
     "data": {
      "text/plain": [
       "31656"
      ]
     },
     "execution_count": 17,
     "metadata": {},
     "output_type": "execute_result"
    }
   ],
   "source": [
    "train_test_split = int(slipknot_transcription_full.shape[0]*0.7)\n",
    "train_test_split"
   ]
  },
  {
   "cell_type": "code",
   "execution_count": 18,
   "id": "6978f3ed",
   "metadata": {},
   "outputs": [],
   "source": [
    "train = slipknot_transcription_full.loc[:train_test_split]\n",
    "test = slipknot_transcription_full.loc[train_test_split:]"
   ]
  },
  {
   "cell_type": "code",
   "execution_count": 20,
   "id": "c2f55c29",
   "metadata": {},
   "outputs": [],
   "source": [
    "inputs_list = []\n",
    "outputs_list = []\n",
    "sequence_len = 32\n",
    "raw_notes = train.values\n",
    "for i in range(len(raw_notes) - sequence_len):\n",
    "    input_start = i\n",
    "    input_end = i + sequence_len\n",
    "    output_start = input_end\n",
    "    output_end = output_start + 1\n",
    "\n",
    "    # for every 32 notes sequence set next note as output\n",
    "    inputs_list.append(raw_notes[input_start:input_end])\n",
    "    outputs_list.append(raw_notes[output_start:output_end])\n",
    "\n",
    "outputs_list = list(np.array(outputs_list).reshape(-1, np.array(outputs_list).shape[-1]))\n",
    "\n",
    "inputs_list = np.array(inputs_list)\n",
    "outputs_list = np.array(outputs_list)\n",
    "\n",
    "output_shape = outputs_list.shape[1]\n",
    "\n",
    "test_list = []\n",
    "test_out = []\n",
    "raw_notes = test.values\n",
    "for i in range(len(raw_notes) - sequence_len):\n",
    "    input_start = i\n",
    "    input_end = i + sequence_len\n",
    "    output_start = input_end\n",
    "    output_end = output_start + 1\n",
    "\n",
    "    # for every 32 notes sequence set next note as output\n",
    "    test_list.append(raw_notes[input_start:input_end])\n",
    "    test_out.append(raw_notes[output_start:output_end])\n",
    "\n",
    "test_out = list(np.array(test_out).reshape(-1, np.array(test_out).shape[-1]))\n",
    "\n",
    "test_list = np.array(test_list)\n",
    "test_out = np.array(test_out)"
   ]
  },
  {
   "cell_type": "code",
   "execution_count": 31,
   "id": "6bb251a4",
   "metadata": {},
   "outputs": [
    {
     "name": "stdout",
     "output_type": "stream",
     "text": [
      "Model: \"sequential_1\"\n",
      "_________________________________________________________________\n",
      " Layer (type)                Output Shape              Param #   \n",
      "=================================================================\n",
      " lstm_3 (LSTM)               (None, 32, 32)            7040      \n",
      "                                                                 \n",
      " lstm_4 (LSTM)               (None, 32, 32)            8320      \n",
      "                                                                 \n",
      " lstm_5 (LSTM)               (None, 32)                8320      \n",
      "                                                                 \n",
      " dense_1 (Dense)             (None, 22)                726       \n",
      "                                                                 \n",
      "=================================================================\n",
      "Total params: 24,406\n",
      "Trainable params: 24,406\n",
      "Non-trainable params: 0\n",
      "_________________________________________________________________\n",
      "Epoch 1/50\n",
      "890/890 [==============================] - ETA: 0s - loss: 0.0921 - accuracy: 0.2342 - binary_crossentropy: 0.0921\n",
      "Epoch 1: val_loss improved from inf to 0.07161, saving model to ./new_encode_1st_try.h5\n",
      "890/890 [==============================] - 23s 22ms/step - loss: 0.0921 - accuracy: 0.2342 - binary_crossentropy: 0.0921 - val_loss: 0.0716 - val_accuracy: 0.0746 - val_binary_crossentropy: 0.0716\n",
      "Epoch 2/50\n",
      "889/890 [============================>.] - ETA: 0s - loss: 0.0687 - accuracy: 0.2937 - binary_crossentropy: 0.0687\n",
      "Epoch 2: val_loss improved from 0.07161 to 0.07149, saving model to ./new_encode_1st_try.h5\n",
      "890/890 [==============================] - 20s 22ms/step - loss: 0.0687 - accuracy: 0.2936 - binary_crossentropy: 0.0687 - val_loss: 0.0715 - val_accuracy: 0.0746 - val_binary_crossentropy: 0.0715\n",
      "Epoch 3/50\n",
      "888/890 [============================>.] - ETA: 0s - loss: 0.0679 - accuracy: 0.2926 - binary_crossentropy: 0.0679\n",
      "Epoch 3: val_loss did not improve from 0.07149\n",
      "890/890 [==============================] - 24s 27ms/step - loss: 0.0679 - accuracy: 0.2924 - binary_crossentropy: 0.0679 - val_loss: 0.0720 - val_accuracy: 0.0746 - val_binary_crossentropy: 0.0720\n",
      "Epoch 4/50\n",
      "890/890 [==============================] - ETA: 0s - loss: 0.0672 - accuracy: 0.3255 - binary_crossentropy: 0.0672\n",
      "Epoch 4: val_loss improved from 0.07149 to 0.07042, saving model to ./new_encode_1st_try.h5\n",
      "890/890 [==============================] - 21s 24ms/step - loss: 0.0672 - accuracy: 0.3255 - binary_crossentropy: 0.0672 - val_loss: 0.0704 - val_accuracy: 0.0746 - val_binary_crossentropy: 0.0704\n",
      "Epoch 5/50\n",
      "888/890 [============================>.] - ETA: 0s - loss: 0.0629 - accuracy: 0.3716 - binary_crossentropy: 0.0629\n",
      "Epoch 5: val_loss improved from 0.07042 to 0.06341, saving model to ./new_encode_1st_try.h5\n",
      "890/890 [==============================] - 20s 23ms/step - loss: 0.0629 - accuracy: 0.3714 - binary_crossentropy: 0.0629 - val_loss: 0.0634 - val_accuracy: 0.5675 - val_binary_crossentropy: 0.0634\n",
      "Epoch 6/50\n",
      "889/890 [============================>.] - ETA: 0s - loss: 0.0588 - accuracy: 0.3814 - binary_crossentropy: 0.0588\n",
      "Epoch 6: val_loss improved from 0.06341 to 0.06294, saving model to ./new_encode_1st_try.h5\n",
      "890/890 [==============================] - 20s 23ms/step - loss: 0.0588 - accuracy: 0.3812 - binary_crossentropy: 0.0588 - val_loss: 0.0629 - val_accuracy: 0.2570 - val_binary_crossentropy: 0.0629\n",
      "Epoch 7/50\n",
      "888/890 [============================>.] - ETA: 0s - loss: 0.0571 - accuracy: 0.3948 - binary_crossentropy: 0.0571\n",
      "Epoch 7: val_loss improved from 0.06294 to 0.06113, saving model to ./new_encode_1st_try.h5\n",
      "890/890 [==============================] - 20s 23ms/step - loss: 0.0571 - accuracy: 0.3952 - binary_crossentropy: 0.0571 - val_loss: 0.0611 - val_accuracy: 0.6016 - val_binary_crossentropy: 0.0611\n",
      "Epoch 8/50\n",
      "888/890 [============================>.] - ETA: 0s - loss: 0.0555 - accuracy: 0.3279 - binary_crossentropy: 0.0555\n",
      "Epoch 8: val_loss improved from 0.06113 to 0.05993, saving model to ./new_encode_1st_try.h5\n",
      "890/890 [==============================] - 20s 22ms/step - loss: 0.0554 - accuracy: 0.3276 - binary_crossentropy: 0.0554 - val_loss: 0.0599 - val_accuracy: 0.0721 - val_binary_crossentropy: 0.0599\n",
      "Epoch 9/50\n",
      "890/890 [==============================] - ETA: 0s - loss: 0.0547 - accuracy: 0.3236 - binary_crossentropy: 0.0547\n",
      "Epoch 9: val_loss did not improve from 0.05993\n",
      "890/890 [==============================] - 20s 23ms/step - loss: 0.0547 - accuracy: 0.3236 - binary_crossentropy: 0.0547 - val_loss: 0.0611 - val_accuracy: 0.1619 - val_binary_crossentropy: 0.0611\n",
      "Epoch 10/50\n",
      "889/890 [============================>.] - ETA: 0s - loss: 0.0545 - accuracy: 0.3142 - binary_crossentropy: 0.0545\n",
      "Epoch 10: val_loss improved from 0.05993 to 0.05968, saving model to ./new_encode_1st_try.h5\n",
      "890/890 [==============================] - 21s 23ms/step - loss: 0.0545 - accuracy: 0.3141 - binary_crossentropy: 0.0545 - val_loss: 0.0597 - val_accuracy: 0.1685 - val_binary_crossentropy: 0.0597\n",
      "Epoch 11/50\n",
      "888/890 [============================>.] - ETA: 0s - loss: 0.0540 - accuracy: 0.2214 - binary_crossentropy: 0.0540\n",
      "Epoch 11: val_loss did not improve from 0.05968\n",
      "890/890 [==============================] - 21s 23ms/step - loss: 0.0540 - accuracy: 0.2212 - binary_crossentropy: 0.0540 - val_loss: 0.0611 - val_accuracy: 0.0895 - val_binary_crossentropy: 0.0611\n",
      "Epoch 12/50\n",
      "889/890 [============================>.] - ETA: 0s - loss: 0.0542 - accuracy: 0.1911 - binary_crossentropy: 0.0542\n",
      "Epoch 12: val_loss did not improve from 0.05968\n",
      "890/890 [==============================] - 21s 23ms/step - loss: 0.0542 - accuracy: 0.1910 - binary_crossentropy: 0.0542 - val_loss: 0.0598 - val_accuracy: 0.0942 - val_binary_crossentropy: 0.0598\n",
      "Epoch 13/50\n",
      "889/890 [============================>.] - ETA: 0s - loss: 0.0542 - accuracy: 0.1768 - binary_crossentropy: 0.0542\n",
      "Epoch 13: val_loss did not improve from 0.05968\n",
      "890/890 [==============================] - 20s 23ms/step - loss: 0.0542 - accuracy: 0.1767 - binary_crossentropy: 0.0542 - val_loss: 0.0599 - val_accuracy: 0.0888 - val_binary_crossentropy: 0.0599\n",
      "Epoch 14/50\n",
      "889/890 [============================>.] - ETA: 0s - loss: 0.0546 - accuracy: 0.2128 - binary_crossentropy: 0.0546\n",
      "Epoch 14: val_loss improved from 0.05968 to 0.05895, saving model to ./new_encode_1st_try.h5\n",
      "890/890 [==============================] - 20s 23ms/step - loss: 0.0546 - accuracy: 0.2128 - binary_crossentropy: 0.0546 - val_loss: 0.0589 - val_accuracy: 0.0822 - val_binary_crossentropy: 0.0589\n",
      "Epoch 15/50\n",
      "890/890 [==============================] - ETA: 0s - loss: 0.0539 - accuracy: 0.1924 - binary_crossentropy: 0.0539\n",
      "Epoch 15: val_loss did not improve from 0.05895\n",
      "890/890 [==============================] - 20s 22ms/step - loss: 0.0539 - accuracy: 0.1924 - binary_crossentropy: 0.0539 - val_loss: 0.0596 - val_accuracy: 0.0819 - val_binary_crossentropy: 0.0596\n",
      "Epoch 16/50\n",
      "889/890 [============================>.] - ETA: 0s - loss: 0.0533 - accuracy: 0.1779 - binary_crossentropy: 0.0533\n",
      "Epoch 16: val_loss did not improve from 0.05895\n",
      "890/890 [==============================] - 20s 22ms/step - loss: 0.0533 - accuracy: 0.1779 - binary_crossentropy: 0.0533 - val_loss: 0.0604 - val_accuracy: 0.0828 - val_binary_crossentropy: 0.0604\n",
      "Epoch 17/50\n",
      "889/890 [============================>.] - ETA: 0s - loss: 0.0528 - accuracy: 0.1755 - binary_crossentropy: 0.0528\n",
      "Epoch 17: val_loss did not improve from 0.05895\n",
      "890/890 [==============================] - 20s 23ms/step - loss: 0.0528 - accuracy: 0.1755 - binary_crossentropy: 0.0528 - val_loss: 0.0597 - val_accuracy: 0.0825 - val_binary_crossentropy: 0.0597\n",
      "Epoch 18/50\n",
      "888/890 [============================>.] - ETA: 0s - loss: 0.0526 - accuracy: 0.1820 - binary_crossentropy: 0.0526\n",
      "Epoch 18: val_loss did not improve from 0.05895\n",
      "890/890 [==============================] - 20s 23ms/step - loss: 0.0526 - accuracy: 0.1820 - binary_crossentropy: 0.0526 - val_loss: 0.0608 - val_accuracy: 0.0825 - val_binary_crossentropy: 0.0608\n",
      "Epoch 19/50\n",
      "888/890 [============================>.] - ETA: 0s - loss: 0.0522 - accuracy: 0.2128 - binary_crossentropy: 0.0522\n",
      "Epoch 19: val_loss did not improve from 0.05895\n"
     ]
    },
    {
     "name": "stdout",
     "output_type": "stream",
     "text": [
      "890/890 [==============================] - 20s 22ms/step - loss: 0.0522 - accuracy: 0.2127 - binary_crossentropy: 0.0522 - val_loss: 0.0609 - val_accuracy: 0.0828 - val_binary_crossentropy: 0.0609\n",
      "Epoch 20/50\n",
      "890/890 [==============================] - ETA: 0s - loss: 0.0514 - accuracy: 0.1776 - binary_crossentropy: 0.0514\n",
      "Epoch 20: val_loss did not improve from 0.05895\n",
      "890/890 [==============================] - 20s 22ms/step - loss: 0.0514 - accuracy: 0.1776 - binary_crossentropy: 0.0514 - val_loss: 0.0612 - val_accuracy: 0.0885 - val_binary_crossentropy: 0.0612\n",
      "Epoch 21/50\n",
      "888/890 [============================>.] - ETA: 0s - loss: 0.0511 - accuracy: 0.1770 - binary_crossentropy: 0.0511\n",
      "Epoch 21: val_loss did not improve from 0.05895\n",
      "890/890 [==============================] - 20s 22ms/step - loss: 0.0511 - accuracy: 0.1770 - binary_crossentropy: 0.0511 - val_loss: 0.0598 - val_accuracy: 0.0835 - val_binary_crossentropy: 0.0598\n",
      "Epoch 22/50\n",
      "890/890 [==============================] - ETA: 0s - loss: 0.0509 - accuracy: 0.1785 - binary_crossentropy: 0.0509\n",
      "Epoch 22: val_loss did not improve from 0.05895\n",
      "890/890 [==============================] - 20s 22ms/step - loss: 0.0509 - accuracy: 0.1785 - binary_crossentropy: 0.0509 - val_loss: 0.0596 - val_accuracy: 0.0828 - val_binary_crossentropy: 0.0596\n",
      "Epoch 23/50\n",
      "888/890 [============================>.] - ETA: 0s - loss: 0.0504 - accuracy: 0.1814 - binary_crossentropy: 0.0504\n",
      "Epoch 23: val_loss did not improve from 0.05895\n",
      "890/890 [==============================] - 20s 22ms/step - loss: 0.0504 - accuracy: 0.1814 - binary_crossentropy: 0.0504 - val_loss: 0.0605 - val_accuracy: 0.0831 - val_binary_crossentropy: 0.0605\n",
      "Epoch 24/50\n",
      "889/890 [============================>.] - ETA: 0s - loss: 0.0498 - accuracy: 0.1805 - binary_crossentropy: 0.0498\n",
      "Epoch 24: val_loss improved from 0.05895 to 0.05827, saving model to ./new_encode_1st_try.h5\n",
      "890/890 [==============================] - 20s 23ms/step - loss: 0.0498 - accuracy: 0.1804 - binary_crossentropy: 0.0498 - val_loss: 0.0583 - val_accuracy: 0.0863 - val_binary_crossentropy: 0.0583\n",
      "Epoch 25/50\n",
      "888/890 [============================>.] - ETA: 0s - loss: 0.0490 - accuracy: 0.1736 - binary_crossentropy: 0.0490\n",
      "Epoch 25: val_loss did not improve from 0.05827\n",
      "890/890 [==============================] - 20s 22ms/step - loss: 0.0489 - accuracy: 0.1735 - binary_crossentropy: 0.0489 - val_loss: 0.0593 - val_accuracy: 0.0841 - val_binary_crossentropy: 0.0593\n",
      "Epoch 26/50\n",
      "888/890 [============================>.] - ETA: 0s - loss: 0.0488 - accuracy: 0.1641 - binary_crossentropy: 0.0488\n",
      "Epoch 26: val_loss did not improve from 0.05827\n",
      "890/890 [==============================] - 20s 23ms/step - loss: 0.0488 - accuracy: 0.1641 - binary_crossentropy: 0.0488 - val_loss: 0.0590 - val_accuracy: 0.0876 - val_binary_crossentropy: 0.0590\n",
      "Epoch 27/50\n",
      "890/890 [==============================] - ETA: 0s - loss: 0.0483 - accuracy: 0.1647 - binary_crossentropy: 0.0483\n",
      "Epoch 27: val_loss did not improve from 0.05827\n",
      "890/890 [==============================] - 20s 22ms/step - loss: 0.0483 - accuracy: 0.1647 - binary_crossentropy: 0.0483 - val_loss: 0.0583 - val_accuracy: 0.0869 - val_binary_crossentropy: 0.0583\n",
      "Epoch 28/50\n",
      "888/890 [============================>.] - ETA: 0s - loss: 0.0475 - accuracy: 0.1692 - binary_crossentropy: 0.0475\n",
      "Epoch 28: val_loss improved from 0.05827 to 0.05730, saving model to ./new_encode_1st_try.h5\n",
      "890/890 [==============================] - 20s 22ms/step - loss: 0.0475 - accuracy: 0.1691 - binary_crossentropy: 0.0475 - val_loss: 0.0573 - val_accuracy: 0.0914 - val_binary_crossentropy: 0.0573\n",
      "Epoch 29/50\n",
      "890/890 [==============================] - ETA: 0s - loss: 0.0466 - accuracy: 0.1707 - binary_crossentropy: 0.0466\n",
      "Epoch 29: val_loss improved from 0.05730 to 0.05604, saving model to ./new_encode_1st_try.h5\n",
      "890/890 [==============================] - 20s 23ms/step - loss: 0.0466 - accuracy: 0.1707 - binary_crossentropy: 0.0466 - val_loss: 0.0560 - val_accuracy: 0.0813 - val_binary_crossentropy: 0.0560\n",
      "Epoch 30/50\n",
      "888/890 [============================>.] - ETA: 0s - loss: 0.0446 - accuracy: 0.1750 - binary_crossentropy: 0.0446\n",
      "Epoch 30: val_loss improved from 0.05604 to 0.05401, saving model to ./new_encode_1st_try.h5\n",
      "890/890 [==============================] - 20s 23ms/step - loss: 0.0446 - accuracy: 0.1750 - binary_crossentropy: 0.0446 - val_loss: 0.0540 - val_accuracy: 0.1018 - val_binary_crossentropy: 0.0540\n",
      "Epoch 31/50\n",
      "888/890 [============================>.] - ETA: 0s - loss: 0.0436 - accuracy: 0.1866 - binary_crossentropy: 0.0436\n",
      "Epoch 31: val_loss improved from 0.05401 to 0.05247, saving model to ./new_encode_1st_try.h5\n",
      "890/890 [==============================] - 20s 22ms/step - loss: 0.0436 - accuracy: 0.1865 - binary_crossentropy: 0.0436 - val_loss: 0.0525 - val_accuracy: 0.1220 - val_binary_crossentropy: 0.0525\n",
      "Epoch 32/50\n",
      "890/890 [==============================] - ETA: 0s - loss: 0.0418 - accuracy: 0.1867 - binary_crossentropy: 0.0418\n",
      "Epoch 32: val_loss improved from 0.05247 to 0.05100, saving model to ./new_encode_1st_try.h5\n",
      "890/890 [==============================] - 20s 23ms/step - loss: 0.0418 - accuracy: 0.1867 - binary_crossentropy: 0.0418 - val_loss: 0.0510 - val_accuracy: 0.1135 - val_binary_crossentropy: 0.0510\n",
      "Epoch 33/50\n",
      "889/890 [============================>.] - ETA: 0s - loss: 0.0401 - accuracy: 0.1945 - binary_crossentropy: 0.0401\n",
      "Epoch 33: val_loss did not improve from 0.05100\n",
      "890/890 [==============================] - 20s 23ms/step - loss: 0.0401 - accuracy: 0.1944 - binary_crossentropy: 0.0401 - val_loss: 0.0514 - val_accuracy: 0.1046 - val_binary_crossentropy: 0.0514\n",
      "Epoch 34/50\n",
      "888/890 [============================>.] - ETA: 0s - loss: 0.0397 - accuracy: 0.2012 - binary_crossentropy: 0.0397\n",
      "Epoch 34: val_loss did not improve from 0.05100\n",
      "890/890 [==============================] - 20s 23ms/step - loss: 0.0397 - accuracy: 0.2011 - binary_crossentropy: 0.0397 - val_loss: 0.0521 - val_accuracy: 0.1088 - val_binary_crossentropy: 0.0521\n",
      "Epoch 35/50\n",
      "889/890 [============================>.] - ETA: 0s - loss: 0.0391 - accuracy: 0.2104 - binary_crossentropy: 0.0391\n",
      "Epoch 35: val_loss improved from 0.05100 to 0.04978, saving model to ./new_encode_1st_try.h5\n",
      "890/890 [==============================] - 20s 23ms/step - loss: 0.0391 - accuracy: 0.2104 - binary_crossentropy: 0.0391 - val_loss: 0.0498 - val_accuracy: 0.1031 - val_binary_crossentropy: 0.0498\n",
      "Epoch 36/50\n",
      "888/890 [============================>.] - ETA: 0s - loss: 0.0381 - accuracy: 0.2119 - binary_crossentropy: 0.0381\n",
      "Epoch 36: val_loss did not improve from 0.04978\n",
      "890/890 [==============================] - 20s 23ms/step - loss: 0.0381 - accuracy: 0.2118 - binary_crossentropy: 0.0381 - val_loss: 0.0509 - val_accuracy: 0.1015 - val_binary_crossentropy: 0.0509\n",
      "Epoch 37/50\n",
      "888/890 [============================>.] - ETA: 0s - loss: 0.0371 - accuracy: 0.2186 - binary_crossentropy: 0.0371\n",
      "Epoch 37: val_loss improved from 0.04978 to 0.04937, saving model to ./new_encode_1st_try.h5\n",
      "890/890 [==============================] - 20s 23ms/step - loss: 0.0371 - accuracy: 0.2185 - binary_crossentropy: 0.0371 - val_loss: 0.0494 - val_accuracy: 0.0977 - val_binary_crossentropy: 0.0494\n",
      "Epoch 38/50\n",
      "889/890 [============================>.] - ETA: 0s - loss: 0.0363 - accuracy: 0.2197 - binary_crossentropy: 0.0363\n",
      "Epoch 38: val_loss did not improve from 0.04937\n",
      "890/890 [==============================] - 21s 23ms/step - loss: 0.0363 - accuracy: 0.2197 - binary_crossentropy: 0.0363 - val_loss: 0.0500 - val_accuracy: 0.1012 - val_binary_crossentropy: 0.0500\n",
      "Epoch 39/50\n",
      "890/890 [==============================] - ETA: 0s - loss: 0.0355 - accuracy: 0.2212 - binary_crossentropy: 0.0355\n",
      "Epoch 39: val_loss did not improve from 0.04937\n",
      "890/890 [==============================] - 21s 23ms/step - loss: 0.0355 - accuracy: 0.2212 - binary_crossentropy: 0.0355 - val_loss: 0.0512 - val_accuracy: 0.1012 - val_binary_crossentropy: 0.0512\n",
      "Epoch 40/50\n",
      "890/890 [==============================] - ETA: 0s - loss: 0.0348 - accuracy: 0.2196 - binary_crossentropy: 0.0348\n",
      "Epoch 40: val_loss did not improve from 0.04937\n",
      "890/890 [==============================] - 20s 23ms/step - loss: 0.0348 - accuracy: 0.2196 - binary_crossentropy: 0.0348 - val_loss: 0.0499 - val_accuracy: 0.1059 - val_binary_crossentropy: 0.0499\n"
     ]
    },
    {
     "name": "stdout",
     "output_type": "stream",
     "text": [
      "Epoch 41/50\n",
      "888/890 [============================>.] - ETA: 0s - loss: 0.0343 - accuracy: 0.2252 - binary_crossentropy: 0.0343\n",
      "Epoch 41: val_loss did not improve from 0.04937\n",
      "890/890 [==============================] - 20s 22ms/step - loss: 0.0343 - accuracy: 0.2251 - binary_crossentropy: 0.0343 - val_loss: 0.0496 - val_accuracy: 0.1021 - val_binary_crossentropy: 0.0496\n",
      "Epoch 42/50\n",
      "888/890 [============================>.] - ETA: 0s - loss: 0.0337 - accuracy: 0.2291 - binary_crossentropy: 0.0337\n",
      "Epoch 42: val_loss improved from 0.04937 to 0.04912, saving model to ./new_encode_1st_try.h5\n",
      "890/890 [==============================] - 20s 23ms/step - loss: 0.0337 - accuracy: 0.2290 - binary_crossentropy: 0.0337 - val_loss: 0.0491 - val_accuracy: 0.1088 - val_binary_crossentropy: 0.0491\n",
      "Epoch 43/50\n",
      "889/890 [============================>.] - ETA: 0s - loss: 0.0331 - accuracy: 0.2197 - binary_crossentropy: 0.0331\n",
      "Epoch 43: val_loss improved from 0.04912 to 0.04896, saving model to ./new_encode_1st_try.h5\n",
      "890/890 [==============================] - 20s 23ms/step - loss: 0.0331 - accuracy: 0.2196 - binary_crossentropy: 0.0331 - val_loss: 0.0490 - val_accuracy: 0.1097 - val_binary_crossentropy: 0.0490\n",
      "Epoch 44/50\n",
      "888/890 [============================>.] - ETA: 0s - loss: 0.0328 - accuracy: 0.2152 - binary_crossentropy: 0.0328\n",
      "Epoch 44: val_loss did not improve from 0.04896\n",
      "890/890 [==============================] - 20s 23ms/step - loss: 0.0328 - accuracy: 0.2152 - binary_crossentropy: 0.0328 - val_loss: 0.0490 - val_accuracy: 0.1037 - val_binary_crossentropy: 0.0490\n",
      "Epoch 45/50\n",
      "889/890 [============================>.] - ETA: 0s - loss: 0.0324 - accuracy: 0.2202 - binary_crossentropy: 0.0324\n",
      "Epoch 45: val_loss did not improve from 0.04896\n",
      "890/890 [==============================] - 21s 23ms/step - loss: 0.0324 - accuracy: 0.2202 - binary_crossentropy: 0.0324 - val_loss: 0.0495 - val_accuracy: 0.1059 - val_binary_crossentropy: 0.0495\n",
      "Epoch 46/50\n",
      "888/890 [============================>.] - ETA: 0s - loss: 0.0321 - accuracy: 0.2195 - binary_crossentropy: 0.0321\n",
      "Epoch 46: val_loss improved from 0.04896 to 0.04827, saving model to ./new_encode_1st_try.h5\n",
      "890/890 [==============================] - 21s 23ms/step - loss: 0.0321 - accuracy: 0.2194 - binary_crossentropy: 0.0321 - val_loss: 0.0483 - val_accuracy: 0.1113 - val_binary_crossentropy: 0.0483\n",
      "Epoch 47/50\n",
      "890/890 [==============================] - ETA: 0s - loss: 0.0312 - accuracy: 0.2148 - binary_crossentropy: 0.0312\n",
      "Epoch 47: val_loss improved from 0.04827 to 0.04795, saving model to ./new_encode_1st_try.h5\n",
      "890/890 [==============================] - 21s 24ms/step - loss: 0.0312 - accuracy: 0.2148 - binary_crossentropy: 0.0312 - val_loss: 0.0480 - val_accuracy: 0.1224 - val_binary_crossentropy: 0.0480\n",
      "Epoch 48/50\n",
      "890/890 [==============================] - ETA: 0s - loss: 0.0310 - accuracy: 0.2202 - binary_crossentropy: 0.0310\n",
      "Epoch 48: val_loss improved from 0.04795 to 0.04731, saving model to ./new_encode_1st_try.h5\n",
      "890/890 [==============================] - 21s 24ms/step - loss: 0.0310 - accuracy: 0.2202 - binary_crossentropy: 0.0310 - val_loss: 0.0473 - val_accuracy: 0.1220 - val_binary_crossentropy: 0.0473\n",
      "Epoch 49/50\n",
      "888/890 [============================>.] - ETA: 0s - loss: 0.0305 - accuracy: 0.2170 - binary_crossentropy: 0.0305\n",
      "Epoch 49: val_loss did not improve from 0.04731\n",
      "890/890 [==============================] - 21s 23ms/step - loss: 0.0305 - accuracy: 0.2170 - binary_crossentropy: 0.0305 - val_loss: 0.0477 - val_accuracy: 0.2106 - val_binary_crossentropy: 0.0477\n",
      "Epoch 50/50\n",
      "889/890 [============================>.] - ETA: 0s - loss: 0.0300 - accuracy: 0.2224 - binary_crossentropy: 0.0300\n",
      "Epoch 50: val_loss did not improve from 0.04731\n",
      "890/890 [==============================] - 21s 23ms/step - loss: 0.0300 - accuracy: 0.2224 - binary_crossentropy: 0.0300 - val_loss: 0.0478 - val_accuracy: 0.1290 - val_binary_crossentropy: 0.0478\n"
     ]
    }
   ],
   "source": [
    "dropout = 0.2\n",
    "\n",
    "# very very very basic LSTM model\n",
    "model = Sequential()\n",
    "model.add(LSTM(sequence_len, input_shape=(sequence_len, len(instruments)), return_sequences=True, dropout=dropout))\n",
    "model.add(LSTM(sequence_len, return_sequences=True, dropout=dropout))\n",
    "model.add(LSTM(sequence_len, dropout=dropout))\n",
    "model.add(Dense(output_shape, activation='sigmoid'))\n",
    "model.compile(loss='binary_crossentropy', optimizer='adam', metrics=['accuracy',keras.metrics.BinaryCrossentropy()])\n",
    "model.summary()\n",
    "mc = ModelCheckpoint(filepath='./new_encode_1st_try.h5', monitor='val_loss', verbose=1, save_best_only=True)\n",
    "\n",
    "history = model.fit(inputs_list, outputs_list, epochs=50, callbacks=mc, validation_split=0.1, verbose=1, shuffle=False)"
   ]
  },
  {
   "cell_type": "code",
   "execution_count": 43,
   "id": "5cfdcfa4",
   "metadata": {
    "scrolled": true
   },
   "outputs": [
    {
     "data": {
      "image/png": "[encoded data removed]",
      "text/plain": [
       "<Figure size 432x288 with 1 Axes>"
      ]
     },
     "metadata": {
      "needs_background": "light"
     },
     "output_type": "display_data"
    },
    {
     "data": {
      "image/png": "[encoded data removed]",
      "text/plain": [
       "<Figure size 432x288 with 1 Axes>"
      ]
     },
     "metadata": {
      "needs_background": "light"
     },
     "output_type": "display_data"
    },
    {
     "data": {
      "image/png": "[encoded data removed]",
      "text/plain": [
       "<Figure size 432x288 with 1 Axes>"
      ]
     },
     "metadata": {
      "needs_background": "light"
     },
     "output_type": "display_data"
    }
   ],
   "source": [
    "plt.plot(history.history['accuracy'])\n",
    "plt.plot(history.history['val_accuracy'])\n",
    "plt.title('Model accuracy')\n",
    "plt.ylabel('Accuracy')\n",
    "plt.xlabel('Epoch')\n",
    "plt.legend(['accuracy', 'val_accuracy'], loc='upper left')\n",
    "plt.show()\n",
    "\n",
    "plt.plot(history.history['loss'])\n",
    "plt.plot(history.history['val_loss'])\n",
    "plt.title('Model loss')\n",
    "plt.ylabel('Loss')\n",
    "plt.xlabel('Epoch')\n",
    "plt.legend(['loss', 'val_loss'], loc='upper left')\n",
    "plt.show()\n",
    "\n",
    "plt.plot(history.history['binary_crossentropy'])\n",
    "plt.plot(history.history['val_binary_crossentropy'])\n",
    "plt.title('Model binary crossetropy')\n",
    "plt.ylabel('Binary crossetropy')\n",
    "plt.xlabel('Epoch')\n",
    "plt.legend(['binary_crossentropy', 'val_binary_crossentropy'], loc='upper left')\n",
    "\n",
    "plt.show()"
   ]
  },
  {
   "cell_type": "code",
   "execution_count": 39,
   "id": "ae63fb56",
   "metadata": {},
   "outputs": [],
   "source": [
    "# predict new notes\n",
    "prediction = model.predict(test_list[640:1280], verbose=0)\n",
    "# round prediction to 1 or 0\n",
    "prediction = np.around(prediction)\n",
    "# retype it to int\n",
    "prediction = prediction.astype(int)"
   ]
  },
  {
   "cell_type": "code",
   "execution_count": 40,
   "id": "68aeada0",
   "metadata": {},
   "outputs": [
    {
     "data": {
      "text/plain": [
       "array([0, 1])"
      ]
     },
     "execution_count": 40,
     "metadata": {},
     "output_type": "execute_result"
    }
   ],
   "source": [
    "np.unique(prediction)"
   ]
  },
  {
   "cell_type": "code",
   "execution_count": 41,
   "id": "f04fe13f",
   "metadata": {},
   "outputs": [],
   "source": [
    "bpm = 160\n",
    "file_name = \"./output/test_slipknot2.mid\"\n",
    "create_midi(bpm, prediction, mid.ticks_per_beat, file_name, instruments)\n",
    "# create_midi(bpm, transcription.values, mid.ticks_per_beat, \"./output/transcription.mid\", instruments)"
   ]
  },
  {
   "cell_type": "code",
   "execution_count": 17,
   "id": "72778f26",
   "metadata": {},
   "outputs": [],
   "source": [
    "def bleu_metric_complete_lines(candidate, reference):\n",
    "    correct_lines = 0\n",
    "    for i,c in enumerate(candidate):\n",
    "        # line of candidate is the same as reference\n",
    "        if (c == reference[i]).all() == True:\n",
    "            correct_lines += 1\n",
    "    \n",
    "    # probability of correct lines\n",
    "    return correct_lines/len(reference)\n",
    "\n",
    "def bleu_metric_ngrams(candidate, reference, ngram):\n",
    "    correct_ngrams = 0\n",
    "    offset = 0\n",
    "    true_flag = True\n",
    "    \n",
    "    for i,c in enumerate(candidate):\n",
    "        \n",
    "#         print(candidate[i+offset], reference[i+offset], (candidate[i+offset] == reference[i+offset]).all())\n",
    "        # line is correct\n",
    "        if (candidate[i] == reference[i]).all() == True:\n",
    "            pass\n",
    "        else:\n",
    "            true_flag = False\n",
    "\n",
    "        # every ngram sequence\n",
    "        if (i+1)%ngram == 0:\n",
    "#             print(i, true_flag)\n",
    "            # all sequence is correct\n",
    "            if true_flag:\n",
    "                correct_ngrams += 1\n",
    "            true_flag = True\n",
    "    \n",
    "    allngrams = len(reference)/ngram\n",
    "#     print(correct_ngrams, allngrams)\n",
    "    # probability of correct lines\n",
    "    return correct_ngrams/allngrams\n",
    "\n",
    "def bleu_metric_single_notes(candidate, reference, length_of_line):\n",
    "    correct_lines = 0\n",
    "    probabilities = []\n",
    "    for i,c in enumerate(candidate):\n",
    "        # how many notes are correct in single line\n",
    "        tmp = ((c == reference[i]) == True).sum()\n",
    "        # probability of correct notes in single line\n",
    "        probabilities.append(tmp/length_of_line)\n",
    "    \n",
    "    # geometric mean of probabilities\n",
    "    return gmean(probabilities)"
   ]
  },
  {
   "cell_type": "code",
   "execution_count": 18,
   "id": "172358c9",
   "metadata": {
    "scrolled": false
   },
   "outputs": [],
   "source": [
    "candidate = prediction.copy()\n",
    "reference = test_list.copy()"
   ]
  },
  {
   "cell_type": "code",
   "execution_count": 19,
   "id": "087f0ff7",
   "metadata": {},
   "outputs": [
    {
     "data": {
      "text/plain": [
       "0.0"
      ]
     },
     "execution_count": 19,
     "metadata": {},
     "output_type": "execute_result"
    }
   ],
   "source": [
    "bleu_metric_complete_lines(candidate, reference)"
   ]
  },
  {
   "cell_type": "code",
   "execution_count": 20,
   "id": "46166ebf",
   "metadata": {},
   "outputs": [
    {
     "data": {
      "text/plain": [
       "30.836420773258553"
      ]
     },
     "execution_count": 20,
     "metadata": {},
     "output_type": "execute_result"
    }
   ],
   "source": [
    "bleu_metric_single_notes(candidate, reference, length_of_line=len(instruments))"
   ]
  },
  {
   "cell_type": "code",
   "execution_count": 21,
   "id": "088a6f8f",
   "metadata": {},
   "outputs": [
    {
     "data": {
      "text/plain": [
       "0.0"
      ]
     },
     "execution_count": 21,
     "metadata": {},
     "output_type": "execute_result"
    }
   ],
   "source": [
    "bleu_metric_ngrams(candidate, reference, 16)"
   ]
  },
  {
   "cell_type": "code",
   "execution_count": null,
   "id": "d12a4c8e",
   "metadata": {},
   "outputs": [],
   "source": []
  }
 ],
 "metadata": {
  "kernelspec": {
   "display_name": "Python 3 (ipykernel)",
   "language": "python",
   "name": "python3"
  },
  "language_info": {
   "codemirror_mode": {
    "name": "ipython",
    "version": 3
   },
   "file_extension": ".py",
   "mimetype": "text/x-python",
   "name": "python",
   "nbconvert_exporter": "python",
   "pygments_lexer": "ipython3",
   "version": "3.10.1"
  }
 },
 "nbformat": 4,
 "nbformat_minor": 5
}
